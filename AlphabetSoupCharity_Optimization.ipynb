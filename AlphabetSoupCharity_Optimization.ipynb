{
 "cells": [
  {
   "cell_type": "code",
   "execution_count": 1,
   "metadata": {},
   "outputs": [
    {
     "data": {
      "text/html": [
       "<div>\n",
       "<style scoped>\n",
       "    .dataframe tbody tr th:only-of-type {\n",
       "        vertical-align: middle;\n",
       "    }\n",
       "\n",
       "    .dataframe tbody tr th {\n",
       "        vertical-align: top;\n",
       "    }\n",
       "\n",
       "    .dataframe thead th {\n",
       "        text-align: right;\n",
       "    }\n",
       "</style>\n",
       "<table border=\"1\" class=\"dataframe\">\n",
       "  <thead>\n",
       "    <tr style=\"text-align: right;\">\n",
       "      <th></th>\n",
       "      <th>EIN</th>\n",
       "      <th>NAME</th>\n",
       "      <th>APPLICATION_TYPE</th>\n",
       "      <th>AFFILIATION</th>\n",
       "      <th>CLASSIFICATION</th>\n",
       "      <th>USE_CASE</th>\n",
       "      <th>ORGANIZATION</th>\n",
       "      <th>STATUS</th>\n",
       "      <th>INCOME_AMT</th>\n",
       "      <th>SPECIAL_CONSIDERATIONS</th>\n",
       "      <th>ASK_AMT</th>\n",
       "      <th>IS_SUCCESSFUL</th>\n",
       "    </tr>\n",
       "  </thead>\n",
       "  <tbody>\n",
       "    <tr>\n",
       "      <th>0</th>\n",
       "      <td>10520599</td>\n",
       "      <td>BLUE KNIGHTS MOTORCYCLE CLUB</td>\n",
       "      <td>T10</td>\n",
       "      <td>Independent</td>\n",
       "      <td>C1000</td>\n",
       "      <td>ProductDev</td>\n",
       "      <td>Association</td>\n",
       "      <td>1</td>\n",
       "      <td>0</td>\n",
       "      <td>N</td>\n",
       "      <td>5000</td>\n",
       "      <td>1</td>\n",
       "    </tr>\n",
       "    <tr>\n",
       "      <th>1</th>\n",
       "      <td>10531628</td>\n",
       "      <td>AMERICAN CHESAPEAKE CLUB CHARITABLE TR</td>\n",
       "      <td>T3</td>\n",
       "      <td>Independent</td>\n",
       "      <td>C2000</td>\n",
       "      <td>Preservation</td>\n",
       "      <td>Co-operative</td>\n",
       "      <td>1</td>\n",
       "      <td>1-9999</td>\n",
       "      <td>N</td>\n",
       "      <td>108590</td>\n",
       "      <td>1</td>\n",
       "    </tr>\n",
       "    <tr>\n",
       "      <th>2</th>\n",
       "      <td>10547893</td>\n",
       "      <td>ST CLOUD PROFESSIONAL FIREFIGHTERS</td>\n",
       "      <td>T5</td>\n",
       "      <td>CompanySponsored</td>\n",
       "      <td>C3000</td>\n",
       "      <td>ProductDev</td>\n",
       "      <td>Association</td>\n",
       "      <td>1</td>\n",
       "      <td>0</td>\n",
       "      <td>N</td>\n",
       "      <td>5000</td>\n",
       "      <td>0</td>\n",
       "    </tr>\n",
       "    <tr>\n",
       "      <th>3</th>\n",
       "      <td>10553066</td>\n",
       "      <td>SOUTHSIDE ATHLETIC ASSOCIATION</td>\n",
       "      <td>T3</td>\n",
       "      <td>CompanySponsored</td>\n",
       "      <td>C2000</td>\n",
       "      <td>Preservation</td>\n",
       "      <td>Trust</td>\n",
       "      <td>1</td>\n",
       "      <td>10000-24999</td>\n",
       "      <td>N</td>\n",
       "      <td>6692</td>\n",
       "      <td>1</td>\n",
       "    </tr>\n",
       "    <tr>\n",
       "      <th>4</th>\n",
       "      <td>10556103</td>\n",
       "      <td>GENETIC RESEARCH INSTITUTE OF THE DESERT</td>\n",
       "      <td>T3</td>\n",
       "      <td>Independent</td>\n",
       "      <td>C1000</td>\n",
       "      <td>Heathcare</td>\n",
       "      <td>Trust</td>\n",
       "      <td>1</td>\n",
       "      <td>100000-499999</td>\n",
       "      <td>N</td>\n",
       "      <td>142590</td>\n",
       "      <td>1</td>\n",
       "    </tr>\n",
       "  </tbody>\n",
       "</table>\n",
       "</div>"
      ],
      "text/plain": [
       "        EIN                                      NAME APPLICATION_TYPE  \\\n",
       "0  10520599              BLUE KNIGHTS MOTORCYCLE CLUB              T10   \n",
       "1  10531628    AMERICAN CHESAPEAKE CLUB CHARITABLE TR               T3   \n",
       "2  10547893        ST CLOUD PROFESSIONAL FIREFIGHTERS               T5   \n",
       "3  10553066            SOUTHSIDE ATHLETIC ASSOCIATION               T3   \n",
       "4  10556103  GENETIC RESEARCH INSTITUTE OF THE DESERT               T3   \n",
       "\n",
       "        AFFILIATION CLASSIFICATION      USE_CASE  ORGANIZATION  STATUS  \\\n",
       "0       Independent          C1000    ProductDev   Association       1   \n",
       "1       Independent          C2000  Preservation  Co-operative       1   \n",
       "2  CompanySponsored          C3000    ProductDev   Association       1   \n",
       "3  CompanySponsored          C2000  Preservation         Trust       1   \n",
       "4       Independent          C1000     Heathcare         Trust       1   \n",
       "\n",
       "      INCOME_AMT SPECIAL_CONSIDERATIONS  ASK_AMT  IS_SUCCESSFUL  \n",
       "0              0                      N     5000              1  \n",
       "1         1-9999                      N   108590              1  \n",
       "2              0                      N     5000              0  \n",
       "3    10000-24999                      N     6692              1  \n",
       "4  100000-499999                      N   142590              1  "
      ]
     },
     "execution_count": 1,
     "metadata": {},
     "output_type": "execute_result"
    }
   ],
   "source": [
    "# Import our dependencies\n",
    "from sklearn.model_selection import train_test_split\n",
    "from sklearn.preprocessing import StandardScaler\n",
    "import pandas as pd\n",
    "import tensorflow as tf\n",
    "\n",
    "#  Import and read the charity_data.csv.\n",
    "import pandas as pd \n",
    "application_df = pd.read_csv(\"https://static.bc-edx.com/data/dl-1-2/m21/lms/starter/charity_data.csv\")\n",
    "application_df.head()"
   ]
  },
  {
   "cell_type": "code",
   "execution_count": 2,
   "metadata": {},
   "outputs": [],
   "source": [
    "# Drop the non-beneficial ID columns, 'EIN'.\n",
    "# Optimization - Keep 'Name'\n",
    "application_df = application_df.drop(columns=['EIN'])\n",
    "\n",
    "# Optimization - Drop additional columns\n",
    "application_df = application_df.drop(columns=['STATUS','SPECIAL_CONSIDERATIONS'])"
   ]
  },
  {
   "cell_type": "code",
   "execution_count": 3,
   "metadata": {},
   "outputs": [
    {
     "data": {
      "text/plain": [
       "NAME                19568\n",
       "APPLICATION_TYPE       17\n",
       "AFFILIATION             6\n",
       "CLASSIFICATION         71\n",
       "USE_CASE                5\n",
       "ORGANIZATION            4\n",
       "INCOME_AMT              9\n",
       "ASK_AMT              8747\n",
       "IS_SUCCESSFUL           2\n",
       "dtype: int64"
      ]
     },
     "execution_count": 3,
     "metadata": {},
     "output_type": "execute_result"
    }
   ],
   "source": [
    "# Determine the number of unique values in each column.\n",
    "application_df.nunique()"
   ]
  },
  {
   "cell_type": "code",
   "execution_count": 4,
   "metadata": {},
   "outputs": [
    {
     "data": {
      "text/plain": [
       "NAME\n",
       "PARENT BOOSTER USA INC                                                  1260\n",
       "TOPS CLUB INC                                                            765\n",
       "UNITED STATES BOWLING CONGRESS INC                                       700\n",
       "WASHINGTON STATE UNIVERSITY                                              492\n",
       "AMATEUR ATHLETIC UNION OF THE UNITED STATES INC                          408\n",
       "                                                                        ... \n",
       "ST LOUIS SLAM WOMENS FOOTBALL                                              1\n",
       "AIESEC ALUMNI IBEROAMERICA CORP                                            1\n",
       "WEALLBLEEDRED ORG INC                                                      1\n",
       "AMERICAN SOCIETY FOR STANDARDS IN MEDIUMSHIP & PSYCHICAL INVESTIGATI       1\n",
       "WATERHOUSE CHARITABLE TR                                                   1\n",
       "Name: count, Length: 19568, dtype: int64"
      ]
     },
     "execution_count": 4,
     "metadata": {},
     "output_type": "execute_result"
    }
   ],
   "source": [
    "name_counts = application_df['NAME'].value_counts()\n",
    "name_counts"
   ]
  },
  {
   "cell_type": "code",
   "execution_count": 5,
   "metadata": {},
   "outputs": [
    {
     "data": {
      "text/plain": [
       "NAME\n",
       "Other                                                                 18776\n",
       "PARENT BOOSTER USA INC                                                 1260\n",
       "TOPS CLUB INC                                                           765\n",
       "UNITED STATES BOWLING CONGRESS INC                                      700\n",
       "WASHINGTON STATE UNIVERSITY                                             492\n",
       "                                                                      ...  \n",
       "WASHINGTON EXPLORER SEARCH AND RESCUE                                     2\n",
       "INTERNATIONAL ALLIANCE THEATRICAL STAGE EMPLOYEES & MOVING PICTURE        2\n",
       "BIRTH NETWORK                                                             2\n",
       "NATIONAL ASSOCIATON OF CORPORATE DIRECTORS                                2\n",
       "NATIONAL SOCIETY COLONIAL DAMES XVII CENTURY                              2\n",
       "Name: count, Length: 793, dtype: int64"
      ]
     },
     "execution_count": 5,
     "metadata": {},
     "output_type": "execute_result"
    }
   ],
   "source": [
    "names_to_replace = name_counts[name_counts<2].index\n",
    "\n",
    "# Replace in dataframe\n",
    "for app in names_to_replace:\n",
    "    application_df['NAME'] = application_df['NAME'].replace(app,\"Other\")\n",
    "\n",
    "# Check to make sure binning was successful\n",
    "application_df['NAME'].value_counts()"
   ]
  },
  {
   "cell_type": "code",
   "execution_count": 6,
   "metadata": {},
   "outputs": [
    {
     "data": {
      "text/plain": [
       "APPLICATION_TYPE\n",
       "T3     27037\n",
       "T4      1542\n",
       "T6      1216\n",
       "T5      1173\n",
       "T19     1065\n",
       "T8       737\n",
       "T7       725\n",
       "T10      528\n",
       "T9       156\n",
       "T13       66\n",
       "T12       27\n",
       "T2        16\n",
       "T25        3\n",
       "T14        3\n",
       "T29        2\n",
       "T15        2\n",
       "T17        1\n",
       "Name: count, dtype: int64"
      ]
     },
     "execution_count": 6,
     "metadata": {},
     "output_type": "execute_result"
    }
   ],
   "source": [
    "# Look at APPLICATION_TYPE value counts for binning\n",
    "app_type_counts = application_df['APPLICATION_TYPE'].value_counts()\n",
    "app_type_counts"
   ]
  },
  {
   "cell_type": "code",
   "execution_count": 7,
   "metadata": {},
   "outputs": [
    {
     "data": {
      "text/plain": [
       "APPLICATION_TYPE\n",
       "T3       27037\n",
       "T4        1542\n",
       "T6        1216\n",
       "T5        1173\n",
       "T19       1065\n",
       "T8         737\n",
       "T7         725\n",
       "T10        528\n",
       "T9         156\n",
       "Other      120\n",
       "Name: count, dtype: int64"
      ]
     },
     "execution_count": 7,
     "metadata": {},
     "output_type": "execute_result"
    }
   ],
   "source": [
    "# Choose a cutoff value and create a list of application types to be replaced\n",
    "# use the variable name `application_types_to_replace`\n",
    "# Optimization - Decrease cutoff value to less than 156\n",
    "application_types_to_replace = app_type_counts[app_type_counts<156].index\n",
    "\n",
    "# Replace in dataframe\n",
    "for app in application_types_to_replace:\n",
    "    application_df['APPLICATION_TYPE'] = application_df['APPLICATION_TYPE'].replace(app,\"Other\")\n",
    "\n",
    "# Check to make sure binning was successful\n",
    "application_df['APPLICATION_TYPE'].value_counts()"
   ]
  },
  {
   "cell_type": "code",
   "execution_count": 8,
   "metadata": {},
   "outputs": [
    {
     "data": {
      "text/plain": [
       "CLASSIFICATION\n",
       "C1000    17326\n",
       "C2000     6074\n",
       "C1200     4837\n",
       "C3000     1918\n",
       "C2100     1883\n",
       "         ...  \n",
       "C4120        1\n",
       "C8210        1\n",
       "C2561        1\n",
       "C4500        1\n",
       "C2150        1\n",
       "Name: count, Length: 71, dtype: int64"
      ]
     },
     "execution_count": 8,
     "metadata": {},
     "output_type": "execute_result"
    }
   ],
   "source": [
    "# Look at CLASSIFICATION value counts for binning\n",
    "class_counts = application_df['CLASSIFICATION'].value_counts()\n",
    "class_counts"
   ]
  },
  {
   "cell_type": "code",
   "execution_count": 9,
   "metadata": {},
   "outputs": [
    {
     "data": {
      "text/plain": [
       "CLASSIFICATION\n",
       "C1000    17326\n",
       "C2000     6074\n",
       "C1200     4837\n",
       "C3000     1918\n",
       "C2100     1883\n",
       "C7000      777\n",
       "C1700      287\n",
       "C4000      194\n",
       "C5000      116\n",
       "C1270      114\n",
       "C2700      104\n",
       "C2800       95\n",
       "C7100       75\n",
       "C1300       58\n",
       "C1280       50\n",
       "C1230       36\n",
       "C1400       34\n",
       "C7200       32\n",
       "C2300       32\n",
       "C1240       30\n",
       "C8000       20\n",
       "C7120       18\n",
       "C1500       16\n",
       "C1800       15\n",
       "C6000       15\n",
       "C1250       14\n",
       "C8200       11\n",
       "C1238       10\n",
       "C1278       10\n",
       "C1235        9\n",
       "C1237        9\n",
       "C7210        7\n",
       "C2400        6\n",
       "C1720        6\n",
       "C4100        6\n",
       "C1257        5\n",
       "C1600        5\n",
       "C1260        3\n",
       "C2710        3\n",
       "C0           3\n",
       "C3200        2\n",
       "C1234        2\n",
       "C1246        2\n",
       "C1267        2\n",
       "C1256        2\n",
       "Name: count, dtype: int64"
      ]
     },
     "execution_count": 9,
     "metadata": {},
     "output_type": "execute_result"
    }
   ],
   "source": [
    "# You may find it helpful to look at CLASSIFICATION value counts >1\n",
    "class_counts_cleaned = class_counts[class_counts>1]\n",
    "class_counts_cleaned"
   ]
  },
  {
   "cell_type": "code",
   "execution_count": 10,
   "metadata": {},
   "outputs": [
    {
     "data": {
      "text/plain": [
       "CLASSIFICATION\n",
       "C1000    17326\n",
       "C2000     6074\n",
       "C1200     4837\n",
       "C3000     1918\n",
       "C2100     1883\n",
       "C7000      777\n",
       "Other      669\n",
       "C1700      287\n",
       "C4000      194\n",
       "C5000      116\n",
       "C1270      114\n",
       "C2700      104\n",
       "Name: count, dtype: int64"
      ]
     },
     "execution_count": 10,
     "metadata": {},
     "output_type": "execute_result"
    }
   ],
   "source": [
    "# Choose a cutoff value and create a list of classifications to be replaced\n",
    "# use the variable name `classifications_to_replace`\n",
    "# Optimization - Decrease cutoff value to less than 100\n",
    "cutoff_value = 100\n",
    "classifications_to_replace = class_counts[class_counts<cutoff_value].index\n",
    "\n",
    "# Replace in dataframe\n",
    "for cls in classifications_to_replace:\n",
    "    application_df['CLASSIFICATION'] = application_df['CLASSIFICATION'].replace(cls,\"Other\")\n",
    "    \n",
    "# Check to make sure binning was successful\n",
    "application_df['CLASSIFICATION'].value_counts()"
   ]
  },
  {
   "cell_type": "code",
   "execution_count": 11,
   "metadata": {},
   "outputs": [
    {
     "data": {
      "text/plain": [
       "ASK_AMT                                          int64\n",
       "IS_SUCCESSFUL                                    int64\n",
       "NAME_4-H CLUBS & AFFILIATED 4-H ORGANIZATIONS     bool\n",
       "NAME_AACE INTERNATIONAL                           bool\n",
       "NAME_ACADEMY OF GENERAL DENTISTRY                 bool\n",
       "                                                 ...  \n",
       "INCOME_AMT_10M-50M                                bool\n",
       "INCOME_AMT_1M-5M                                  bool\n",
       "INCOME_AMT_25000-99999                            bool\n",
       "INCOME_AMT_50M+                                   bool\n",
       "INCOME_AMT_5M-10M                                 bool\n",
       "Length: 841, dtype: object"
      ]
     },
     "execution_count": 11,
     "metadata": {},
     "output_type": "execute_result"
    }
   ],
   "source": [
    "# Convert categorical data to numeric with `pd.get_dummies`\n",
    "application_df_dummies = pd.get_dummies(application_df)\n",
    "application_df_dummies.dtypes"
   ]
  },
  {
   "cell_type": "code",
   "execution_count": 12,
   "metadata": {},
   "outputs": [],
   "source": [
    "# Split our preprocessed data into our features and target arrays\n",
    "X = application_df_dummies.drop('IS_SUCCESSFUL', axis=1)\n",
    "y = application_df_dummies['IS_SUCCESSFUL']\n",
    "\n",
    "# Split the preprocessed data into a training and testing dataset\n",
    "X_train, X_test, y_train, y_test = train_test_split(X, y, test_size=0.2, random_state=50)"
   ]
  },
  {
   "cell_type": "code",
   "execution_count": 13,
   "metadata": {},
   "outputs": [],
   "source": [
    "# Create a StandardScaler instances\n",
    "scaler = StandardScaler()\n",
    "\n",
    "# Fit the StandardScaler\n",
    "X_scaler = scaler.fit(X_train)\n",
    "\n",
    "# Scale the data\n",
    "X_train_scaled = X_scaler.transform(X_train)\n",
    "X_test_scaled = X_scaler.transform(X_test)"
   ]
  },
  {
   "cell_type": "markdown",
   "metadata": {},
   "source": [
    "## Compile, Train and Evaluate the Model"
   ]
  },
  {
   "cell_type": "code",
   "execution_count": 14,
   "metadata": {},
   "outputs": [
    {
     "data": {
      "text/plain": [
       "840"
      ]
     },
     "execution_count": 14,
     "metadata": {},
     "output_type": "execute_result"
    }
   ],
   "source": [
    "len(X_train_scaled[0])"
   ]
  },
  {
   "cell_type": "code",
   "execution_count": 15,
   "metadata": {},
   "outputs": [
    {
     "name": "stdout",
     "output_type": "stream",
     "text": [
      "Model: \"sequential\"\n",
      "_________________________________________________________________\n",
      " Layer (type)                Output Shape              Param #   \n",
      "=================================================================\n",
      " dense (Dense)               (None, 8)                 6728      \n",
      "                                                                 \n",
      " dense_1 (Dense)             (None, 5)                 45        \n",
      "                                                                 \n",
      " dense_2 (Dense)             (None, 1)                 6         \n",
      "                                                                 \n",
      "=================================================================\n",
      "Total params: 6,779\n",
      "Trainable params: 6,779\n",
      "Non-trainable params: 0\n",
      "_________________________________________________________________\n"
     ]
    }
   ],
   "source": [
    "# Define the model - deep neural net, i.e., the number of input features and hidden nodes for each layer.\n",
    "number_input_features = len(X_train_scaled[0])\n",
    "hidden_nodes_layer1 = 8\n",
    "hidden_nodes_layer2 = 5\n",
    "\n",
    "nn = tf.keras.models.Sequential()\n",
    "\n",
    "# First hidden layer\n",
    "nn.add(tf.keras.layers.Dense(units=hidden_nodes_layer1, input_dim=number_input_features, activation=\"relu\"))\n",
    "\n",
    "# Second hidden layer\n",
    "nn.add(tf.keras.layers.Dense(units=hidden_nodes_layer2, activation=\"relu\"))\n",
    "\n",
    "# Output layer\n",
    "nn.add(tf.keras.layers.Dense(units=1, activation=\"sigmoid\"))\n",
    "\n",
    "# Check the structure of the model\n",
    "nn.summary()"
   ]
  },
  {
   "cell_type": "code",
   "execution_count": 16,
   "metadata": {},
   "outputs": [],
   "source": [
    "# Compile the model\n",
    "nn.compile(loss=\"binary_crossentropy\", optimizer=\"adam\", metrics=[\"accuracy\"])"
   ]
  },
  {
   "cell_type": "code",
   "execution_count": 17,
   "metadata": {},
   "outputs": [
    {
     "name": "stdout",
     "output_type": "stream",
     "text": [
      "Epoch 1/100\n",
      "858/858 [==============================] - 1s 1ms/step - loss: 0.6096 - accuracy: 0.7360\n",
      "Epoch 2/100\n",
      "858/858 [==============================] - 1s 1ms/step - loss: 0.4986 - accuracy: 0.7945\n",
      "Epoch 3/100\n",
      "858/858 [==============================] - 1s 1ms/step - loss: 0.4603 - accuracy: 0.7993\n",
      "Epoch 4/100\n",
      "858/858 [==============================] - 1s 1ms/step - loss: 0.4433 - accuracy: 0.8024\n",
      "Epoch 5/100\n",
      "858/858 [==============================] - 1s 1ms/step - loss: 0.4350 - accuracy: 0.8029\n",
      "Epoch 6/100\n",
      "858/858 [==============================] - 1s 1ms/step - loss: 0.4301 - accuracy: 0.8044\n",
      "Epoch 7/100\n",
      "858/858 [==============================] - 1s 1ms/step - loss: 0.4268 - accuracy: 0.8040\n",
      "Epoch 8/100\n",
      "858/858 [==============================] - 1s 1ms/step - loss: 0.4247 - accuracy: 0.8048\n",
      "Epoch 9/100\n",
      "858/858 [==============================] - 1s 1ms/step - loss: 0.4196 - accuracy: 0.8048\n",
      "Epoch 10/100\n",
      "858/858 [==============================] - 1s 1ms/step - loss: 0.4174 - accuracy: 0.8042\n",
      "Epoch 11/100\n",
      "858/858 [==============================] - 1s 1ms/step - loss: 0.4159 - accuracy: 0.8059\n",
      "Epoch 12/100\n",
      "858/858 [==============================] - 1s 1ms/step - loss: 0.4150 - accuracy: 0.8055\n",
      "Epoch 13/100\n",
      "858/858 [==============================] - 1s 1ms/step - loss: 0.4143 - accuracy: 0.8062\n",
      "Epoch 14/100\n",
      "858/858 [==============================] - 1s 1ms/step - loss: 0.4133 - accuracy: 0.8064\n",
      "Epoch 15/100\n",
      "858/858 [==============================] - 1s 1ms/step - loss: 0.4124 - accuracy: 0.8069\n",
      "Epoch 16/100\n",
      "858/858 [==============================] - 1s 1ms/step - loss: 0.4120 - accuracy: 0.8060\n",
      "Epoch 17/100\n",
      "858/858 [==============================] - 1s 1ms/step - loss: 0.4106 - accuracy: 0.8074\n",
      "Epoch 18/100\n",
      "858/858 [==============================] - 1s 1ms/step - loss: 0.4102 - accuracy: 0.8078\n",
      "Epoch 19/100\n",
      "858/858 [==============================] - 1s 1ms/step - loss: 0.4105 - accuracy: 0.8072\n",
      "Epoch 20/100\n",
      "858/858 [==============================] - 1s 1ms/step - loss: 0.4093 - accuracy: 0.8073\n",
      "Epoch 21/100\n",
      "858/858 [==============================] - 1s 1ms/step - loss: 0.4087 - accuracy: 0.8078\n",
      "Epoch 22/100\n",
      "858/858 [==============================] - 1s 1ms/step - loss: 0.4083 - accuracy: 0.8073\n",
      "Epoch 23/100\n",
      "858/858 [==============================] - 1s 1ms/step - loss: 0.4081 - accuracy: 0.8082\n",
      "Epoch 24/100\n",
      "858/858 [==============================] - 1s 1ms/step - loss: 0.4077 - accuracy: 0.8062\n",
      "Epoch 25/100\n",
      "858/858 [==============================] - 1s 1ms/step - loss: 0.4073 - accuracy: 0.8084\n",
      "Epoch 26/100\n",
      "858/858 [==============================] - 1s 1ms/step - loss: 0.4071 - accuracy: 0.8086\n",
      "Epoch 27/100\n",
      "858/858 [==============================] - 1s 1ms/step - loss: 0.4070 - accuracy: 0.8080\n",
      "Epoch 28/100\n",
      "858/858 [==============================] - 1s 1ms/step - loss: 0.4066 - accuracy: 0.8084\n",
      "Epoch 29/100\n",
      "858/858 [==============================] - 1s 1ms/step - loss: 0.4062 - accuracy: 0.8087\n",
      "Epoch 30/100\n",
      "858/858 [==============================] - 1s 1ms/step - loss: 0.4056 - accuracy: 0.8097\n",
      "Epoch 31/100\n",
      "858/858 [==============================] - 1s 1ms/step - loss: 0.4054 - accuracy: 0.8087\n",
      "Epoch 32/100\n",
      "858/858 [==============================] - 1s 1ms/step - loss: 0.4054 - accuracy: 0.8083\n",
      "Epoch 33/100\n",
      "858/858 [==============================] - 1s 1ms/step - loss: 0.4048 - accuracy: 0.8094\n",
      "Epoch 34/100\n",
      "858/858 [==============================] - 1s 1ms/step - loss: 0.4047 - accuracy: 0.8090\n",
      "Epoch 35/100\n",
      "858/858 [==============================] - 1s 1ms/step - loss: 0.4047 - accuracy: 0.8093\n",
      "Epoch 36/100\n",
      "858/858 [==============================] - 1s 1ms/step - loss: 0.4046 - accuracy: 0.8086\n",
      "Epoch 37/100\n",
      "858/858 [==============================] - 1s 1ms/step - loss: 0.4040 - accuracy: 0.8098\n",
      "Epoch 38/100\n",
      "858/858 [==============================] - 1s 1ms/step - loss: 0.4037 - accuracy: 0.8097\n",
      "Epoch 39/100\n",
      "858/858 [==============================] - 1s 1ms/step - loss: 0.4039 - accuracy: 0.8092\n",
      "Epoch 40/100\n",
      "858/858 [==============================] - 1s 1ms/step - loss: 0.4036 - accuracy: 0.8096\n",
      "Epoch 41/100\n",
      "858/858 [==============================] - 1s 1ms/step - loss: 0.4035 - accuracy: 0.8092\n",
      "Epoch 42/100\n",
      "858/858 [==============================] - 1s 1ms/step - loss: 0.4029 - accuracy: 0.8095\n",
      "Epoch 43/100\n",
      "858/858 [==============================] - 1s 1ms/step - loss: 0.4028 - accuracy: 0.8105\n",
      "Epoch 44/100\n",
      "858/858 [==============================] - 1s 1ms/step - loss: 0.4026 - accuracy: 0.8097\n",
      "Epoch 45/100\n",
      "858/858 [==============================] - 1s 1ms/step - loss: 0.4026 - accuracy: 0.8106\n",
      "Epoch 46/100\n",
      "858/858 [==============================] - 1s 1ms/step - loss: 0.4023 - accuracy: 0.8092\n",
      "Epoch 47/100\n",
      "858/858 [==============================] - 1s 1ms/step - loss: 0.4021 - accuracy: 0.8097\n",
      "Epoch 48/100\n",
      "858/858 [==============================] - 1s 1ms/step - loss: 0.4022 - accuracy: 0.8092\n",
      "Epoch 49/100\n",
      "858/858 [==============================] - 1s 1ms/step - loss: 0.4022 - accuracy: 0.8094\n",
      "Epoch 50/100\n",
      "858/858 [==============================] - 1s 1ms/step - loss: 0.4020 - accuracy: 0.8102\n",
      "Epoch 51/100\n",
      "858/858 [==============================] - 1s 1ms/step - loss: 0.4019 - accuracy: 0.8095\n",
      "Epoch 52/100\n",
      "858/858 [==============================] - 1s 1ms/step - loss: 0.4015 - accuracy: 0.8101\n",
      "Epoch 53/100\n",
      "858/858 [==============================] - 1s 1ms/step - loss: 0.4016 - accuracy: 0.8106\n",
      "Epoch 54/100\n",
      "858/858 [==============================] - 1s 1ms/step - loss: 0.4012 - accuracy: 0.8095\n",
      "Epoch 55/100\n",
      "858/858 [==============================] - 1s 1ms/step - loss: 0.4010 - accuracy: 0.8103\n",
      "Epoch 56/100\n",
      "858/858 [==============================] - 1s 1ms/step - loss: 0.4011 - accuracy: 0.8109\n",
      "Epoch 57/100\n",
      "858/858 [==============================] - 1s 1ms/step - loss: 0.4011 - accuracy: 0.8097\n",
      "Epoch 58/100\n",
      "858/858 [==============================] - 1s 1ms/step - loss: 0.4010 - accuracy: 0.8106\n",
      "Epoch 59/100\n",
      "858/858 [==============================] - 1s 1ms/step - loss: 0.4006 - accuracy: 0.8104\n",
      "Epoch 60/100\n",
      "858/858 [==============================] - 1s 1ms/step - loss: 0.4007 - accuracy: 0.8090\n",
      "Epoch 61/100\n",
      "858/858 [==============================] - 1s 1ms/step - loss: 0.4005 - accuracy: 0.8107\n",
      "Epoch 62/100\n",
      "858/858 [==============================] - 1s 1ms/step - loss: 0.4005 - accuracy: 0.8104\n",
      "Epoch 63/100\n",
      "858/858 [==============================] - 1s 1ms/step - loss: 0.4007 - accuracy: 0.8111\n",
      "Epoch 64/100\n",
      "858/858 [==============================] - 1s 1ms/step - loss: 0.4006 - accuracy: 0.8106\n",
      "Epoch 65/100\n",
      "858/858 [==============================] - 1s 1ms/step - loss: 0.4003 - accuracy: 0.8106\n",
      "Epoch 66/100\n",
      "858/858 [==============================] - 1s 1ms/step - loss: 0.4006 - accuracy: 0.8101\n",
      "Epoch 67/100\n",
      "858/858 [==============================] - 1s 1ms/step - loss: 0.4003 - accuracy: 0.8103\n",
      "Epoch 68/100\n",
      "858/858 [==============================] - 1s 1ms/step - loss: 0.4002 - accuracy: 0.8100\n",
      "Epoch 69/100\n",
      "858/858 [==============================] - 1s 1ms/step - loss: 0.3996 - accuracy: 0.8113\n",
      "Epoch 70/100\n",
      "858/858 [==============================] - 1s 1ms/step - loss: 0.4003 - accuracy: 0.8105\n",
      "Epoch 71/100\n",
      "858/858 [==============================] - 1s 1ms/step - loss: 0.4003 - accuracy: 0.8097\n",
      "Epoch 72/100\n",
      "858/858 [==============================] - 1s 1ms/step - loss: 0.3999 - accuracy: 0.8105\n",
      "Epoch 73/100\n",
      "858/858 [==============================] - 1s 1ms/step - loss: 0.3997 - accuracy: 0.8115\n",
      "Epoch 74/100\n",
      "858/858 [==============================] - 1s 1ms/step - loss: 0.3998 - accuracy: 0.8106\n",
      "Epoch 75/100\n",
      "858/858 [==============================] - 1s 1ms/step - loss: 0.3996 - accuracy: 0.8116\n",
      "Epoch 76/100\n",
      "858/858 [==============================] - 1s 1ms/step - loss: 0.3991 - accuracy: 0.8109\n",
      "Epoch 77/100\n",
      "858/858 [==============================] - 1s 1ms/step - loss: 0.3997 - accuracy: 0.8114\n",
      "Epoch 78/100\n",
      "858/858 [==============================] - 1s 1ms/step - loss: 0.3989 - accuracy: 0.8115\n",
      "Epoch 79/100\n",
      "858/858 [==============================] - 1s 1ms/step - loss: 0.3998 - accuracy: 0.8105\n",
      "Epoch 80/100\n",
      "858/858 [==============================] - 1s 1ms/step - loss: 0.3995 - accuracy: 0.8119\n",
      "Epoch 81/100\n",
      "858/858 [==============================] - 1s 1ms/step - loss: 0.3998 - accuracy: 0.8110\n",
      "Epoch 82/100\n",
      "858/858 [==============================] - 1s 1ms/step - loss: 0.3995 - accuracy: 0.8120\n",
      "Epoch 83/100\n",
      "858/858 [==============================] - 1s 1ms/step - loss: 0.3992 - accuracy: 0.8110\n",
      "Epoch 84/100\n",
      "858/858 [==============================] - 1s 1ms/step - loss: 0.3991 - accuracy: 0.8115\n",
      "Epoch 85/100\n",
      "858/858 [==============================] - 1s 1ms/step - loss: 0.3988 - accuracy: 0.8116\n",
      "Epoch 86/100\n",
      "858/858 [==============================] - 1s 1ms/step - loss: 0.3990 - accuracy: 0.8111\n",
      "Epoch 87/100\n",
      "858/858 [==============================] - 1s 1ms/step - loss: 0.3988 - accuracy: 0.8116\n",
      "Epoch 88/100\n",
      "858/858 [==============================] - 1s 1ms/step - loss: 0.3990 - accuracy: 0.8110\n",
      "Epoch 89/100\n",
      "858/858 [==============================] - 1s 1ms/step - loss: 0.3990 - accuracy: 0.8111\n",
      "Epoch 90/100\n",
      "858/858 [==============================] - 1s 1ms/step - loss: 0.3989 - accuracy: 0.8114\n",
      "Epoch 91/100\n",
      "858/858 [==============================] - 1s 1ms/step - loss: 0.3989 - accuracy: 0.8109\n",
      "Epoch 92/100\n",
      "858/858 [==============================] - 1s 1ms/step - loss: 0.3989 - accuracy: 0.8118\n",
      "Epoch 93/100\n",
      "858/858 [==============================] - 1s 1ms/step - loss: 0.3984 - accuracy: 0.8115\n",
      "Epoch 94/100\n",
      "858/858 [==============================] - 1s 1ms/step - loss: 0.3987 - accuracy: 0.8121\n",
      "Epoch 95/100\n",
      "858/858 [==============================] - 1s 1ms/step - loss: 0.3983 - accuracy: 0.8127\n",
      "Epoch 96/100\n",
      "858/858 [==============================] - 1s 1ms/step - loss: 0.3983 - accuracy: 0.8117\n",
      "Epoch 97/100\n",
      "858/858 [==============================] - 1s 1ms/step - loss: 0.3982 - accuracy: 0.8117\n",
      "Epoch 98/100\n",
      "858/858 [==============================] - 1s 1ms/step - loss: 0.3986 - accuracy: 0.8111\n",
      "Epoch 99/100\n",
      "858/858 [==============================] - 1s 1ms/step - loss: 0.3983 - accuracy: 0.8120\n",
      "Epoch 100/100\n",
      "858/858 [==============================] - 1s 1ms/step - loss: 0.3984 - accuracy: 0.8121\n"
     ]
    }
   ],
   "source": [
    "# Train the model\n",
    "fit_model = nn.fit(X_train_scaled, y_train, epochs=100)"
   ]
  },
  {
   "cell_type": "code",
   "execution_count": 18,
   "metadata": {},
   "outputs": [
    {
     "name": "stdout",
     "output_type": "stream",
     "text": [
      "215/215 - 0s - loss: 0.4496 - accuracy: 0.8076 - 405ms/epoch - 2ms/step\n",
      "Loss: 0.4495660960674286, Accuracy: 0.8075801730155945\n"
     ]
    }
   ],
   "source": [
    "# Evaluate the model using the test data\n",
    "model_loss, model_accuracy = nn.evaluate(X_test_scaled,y_test,verbose=2)\n",
    "print(f\"Loss: {model_loss}, Accuracy: {model_accuracy}\")"
   ]
  },
  {
   "cell_type": "code",
   "execution_count": 19,
   "metadata": {},
   "outputs": [],
   "source": [
    "# Export our model to HDF5 file\n",
    "nn.save(\"Alphabet Soup Model 2\", save_format='h5')"
   ]
  }
 ],
 "metadata": {
  "kernelspec": {
   "display_name": "tf",
   "language": "python",
   "name": "python3"
  },
  "language_info": {
   "codemirror_mode": {
    "name": "ipython",
    "version": 3
   },
   "file_extension": ".py",
   "mimetype": "text/x-python",
   "name": "python",
   "nbconvert_exporter": "python",
   "pygments_lexer": "ipython3",
   "version": "3.10.13"
  }
 },
 "nbformat": 4,
 "nbformat_minor": 2
}
